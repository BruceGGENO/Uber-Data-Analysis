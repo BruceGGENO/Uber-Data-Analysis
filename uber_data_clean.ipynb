{
 "cells": [
  {
   "cell_type": "code",
   "execution_count": 8,
   "id": "4a1ac15d-b20f-46e4-8c13-6ce8d6e641af",
   "metadata": {},
   "outputs": [
    {
     "data": {
      "text/html": [
       "<div>\n",
       "<style scoped>\n",
       "    .dataframe tbody tr th:only-of-type {\n",
       "        vertical-align: middle;\n",
       "    }\n",
       "\n",
       "    .dataframe tbody tr th {\n",
       "        vertical-align: top;\n",
       "    }\n",
       "\n",
       "    .dataframe thead th {\n",
       "        text-align: right;\n",
       "    }\n",
       "</style>\n",
       "<table border=\"1\" class=\"dataframe\">\n",
       "  <thead>\n",
       "    <tr style=\"text-align: right;\">\n",
       "      <th></th>\n",
       "      <th>Unnamed: 0</th>\n",
       "      <th>key</th>\n",
       "      <th>fare_amount</th>\n",
       "      <th>pickup_datetime</th>\n",
       "      <th>pickup_longitude</th>\n",
       "      <th>pickup_latitude</th>\n",
       "      <th>dropoff_longitude</th>\n",
       "      <th>dropoff_latitude</th>\n",
       "      <th>passenger_count</th>\n",
       "    </tr>\n",
       "  </thead>\n",
       "  <tbody>\n",
       "    <tr>\n",
       "      <th>0</th>\n",
       "      <td>24238194</td>\n",
       "      <td>2015-05-07 19:52:06.0000003</td>\n",
       "      <td>7.5</td>\n",
       "      <td>2015-05-07 19:52:06 UTC</td>\n",
       "      <td>-73.999817</td>\n",
       "      <td>40.738354</td>\n",
       "      <td>-73.999512</td>\n",
       "      <td>40.723217</td>\n",
       "      <td>1</td>\n",
       "    </tr>\n",
       "    <tr>\n",
       "      <th>1</th>\n",
       "      <td>27835199</td>\n",
       "      <td>2009-07-17 20:04:56.0000002</td>\n",
       "      <td>7.7</td>\n",
       "      <td>2009-07-17 20:04:56 UTC</td>\n",
       "      <td>-73.994355</td>\n",
       "      <td>40.728225</td>\n",
       "      <td>-73.994710</td>\n",
       "      <td>40.750325</td>\n",
       "      <td>1</td>\n",
       "    </tr>\n",
       "    <tr>\n",
       "      <th>2</th>\n",
       "      <td>44984355</td>\n",
       "      <td>2009-08-24 21:45:00.00000061</td>\n",
       "      <td>12.9</td>\n",
       "      <td>2009-08-24 21:45:00 UTC</td>\n",
       "      <td>-74.005043</td>\n",
       "      <td>40.740770</td>\n",
       "      <td>-73.962565</td>\n",
       "      <td>40.772647</td>\n",
       "      <td>1</td>\n",
       "    </tr>\n",
       "    <tr>\n",
       "      <th>3</th>\n",
       "      <td>25894730</td>\n",
       "      <td>2009-06-26 08:22:21.0000001</td>\n",
       "      <td>5.3</td>\n",
       "      <td>2009-06-26 08:22:21 UTC</td>\n",
       "      <td>-73.976124</td>\n",
       "      <td>40.790844</td>\n",
       "      <td>-73.965316</td>\n",
       "      <td>40.803349</td>\n",
       "      <td>3</td>\n",
       "    </tr>\n",
       "    <tr>\n",
       "      <th>4</th>\n",
       "      <td>17610152</td>\n",
       "      <td>2014-08-28 17:47:00.000000188</td>\n",
       "      <td>16.0</td>\n",
       "      <td>2014-08-28 17:47:00 UTC</td>\n",
       "      <td>-73.925023</td>\n",
       "      <td>40.744085</td>\n",
       "      <td>-73.973082</td>\n",
       "      <td>40.761247</td>\n",
       "      <td>5</td>\n",
       "    </tr>\n",
       "  </tbody>\n",
       "</table>\n",
       "</div>"
      ],
      "text/plain": [
       "   Unnamed: 0                            key  fare_amount  \\\n",
       "0    24238194    2015-05-07 19:52:06.0000003          7.5   \n",
       "1    27835199    2009-07-17 20:04:56.0000002          7.7   \n",
       "2    44984355   2009-08-24 21:45:00.00000061         12.9   \n",
       "3    25894730    2009-06-26 08:22:21.0000001          5.3   \n",
       "4    17610152  2014-08-28 17:47:00.000000188         16.0   \n",
       "\n",
       "           pickup_datetime  pickup_longitude  pickup_latitude  \\\n",
       "0  2015-05-07 19:52:06 UTC        -73.999817        40.738354   \n",
       "1  2009-07-17 20:04:56 UTC        -73.994355        40.728225   \n",
       "2  2009-08-24 21:45:00 UTC        -74.005043        40.740770   \n",
       "3  2009-06-26 08:22:21 UTC        -73.976124        40.790844   \n",
       "4  2014-08-28 17:47:00 UTC        -73.925023        40.744085   \n",
       "\n",
       "   dropoff_longitude  dropoff_latitude  passenger_count  \n",
       "0         -73.999512         40.723217                1  \n",
       "1         -73.994710         40.750325                1  \n",
       "2         -73.962565         40.772647                1  \n",
       "3         -73.965316         40.803349                3  \n",
       "4         -73.973082         40.761247                5  "
      ]
     },
     "execution_count": 8,
     "metadata": {},
     "output_type": "execute_result"
    }
   ],
   "source": [
    "import pandas as pd\n",
    "df = pd.read_csv(\"C:/Users/Hp/Desktop/Python/uber.csv\")\n",
    "df.head()"
   ]
  },
  {
   "cell_type": "code",
   "execution_count": 9,
   "id": "8e5b6460-de09-46ca-b6db-89c47f779696",
   "metadata": {},
   "outputs": [
    {
     "name": "stdout",
     "output_type": "stream",
     "text": [
      "Shape: (200000, 9)\n",
      "\n",
      "Data Types:\n",
      " Unnamed: 0             int64\n",
      "key                   object\n",
      "fare_amount          float64\n",
      "pickup_datetime       object\n",
      "pickup_longitude     float64\n",
      "pickup_latitude      float64\n",
      "dropoff_longitude    float64\n",
      "dropoff_latitude     float64\n",
      "passenger_count        int64\n",
      "dtype: object\n",
      "\n",
      "Missing Values:\n",
      " Unnamed: 0           0\n",
      "key                  0\n",
      "fare_amount          0\n",
      "pickup_datetime      0\n",
      "pickup_longitude     0\n",
      "pickup_latitude      0\n",
      "dropoff_longitude    1\n",
      "dropoff_latitude     1\n",
      "passenger_count      0\n",
      "dtype: int64\n",
      "\n",
      "Summary Stats:\n",
      "           Unnamed: 0                          key    fare_amount  \\\n",
      "count   2.000000e+05                       200000  200000.000000   \n",
      "unique           NaN                       200000            NaN   \n",
      "top              NaN  2009-08-29 02:36:56.0000003            NaN   \n",
      "freq             NaN                            1            NaN   \n",
      "mean    2.771250e+07                          NaN      11.359955   \n",
      "std     1.601382e+07                          NaN       9.901776   \n",
      "min     1.000000e+00                          NaN     -52.000000   \n",
      "25%     1.382535e+07                          NaN       6.000000   \n",
      "50%     2.774550e+07                          NaN       8.500000   \n",
      "75%     4.155530e+07                          NaN      12.500000   \n",
      "max     5.542357e+07                          NaN     499.000000   \n",
      "\n",
      "                pickup_datetime  pickup_longitude  pickup_latitude  \\\n",
      "count                    200000     200000.000000    200000.000000   \n",
      "unique                   196629               NaN              NaN   \n",
      "top     2009-02-12 12:46:00 UTC               NaN              NaN   \n",
      "freq                          4               NaN              NaN   \n",
      "mean                        NaN        -72.527638        39.935885   \n",
      "std                         NaN         11.437787         7.720539   \n",
      "min                         NaN      -1340.648410       -74.015515   \n",
      "25%                         NaN        -73.992065        40.734796   \n",
      "50%                         NaN        -73.981823        40.752592   \n",
      "75%                         NaN        -73.967154        40.767158   \n",
      "max                         NaN         57.418457      1644.421482   \n",
      "\n",
      "        dropoff_longitude  dropoff_latitude  passenger_count  \n",
      "count       199999.000000     199999.000000    200000.000000  \n",
      "unique                NaN               NaN              NaN  \n",
      "top                   NaN               NaN              NaN  \n",
      "freq                  NaN               NaN              NaN  \n",
      "mean           -72.525292         39.923890         1.684535  \n",
      "std             13.117408          6.794829         1.385997  \n",
      "min          -3356.666300       -881.985513         0.000000  \n",
      "25%            -73.991407         40.733823         1.000000  \n",
      "50%            -73.980093         40.753042         1.000000  \n",
      "75%            -73.963658         40.768001         2.000000  \n",
      "max           1153.572603        872.697628       208.000000  \n"
     ]
    }
   ],
   "source": [
    "# Structure and dimensions\n",
    "print(\"Shape:\", df.shape)\n",
    "print(\"\\nData Types:\\n\", df.dtypes)\n",
    "print(\"\\nMissing Values:\\n\", df.isnull().sum())\n",
    "print(\"\\nSummary Stats:\\n\", df.describe(include='all'))"
   ]
  },
  {
   "cell_type": "code",
   "execution_count": 17,
   "id": "fdb131e5-d15a-4e2b-abb2-b540a7885fc3",
   "metadata": {},
   "outputs": [],
   "source": [
    "# Handle missing values and clean the data for analysis\n",
    "df_clean = df.dropna()\n",
    "\n",
    "# Optional: Filter out unrealistic fares or distances\n",
    "df_clean = df_clean[(df_clean['fare_amount'] > 0) & (df_clean['fare_amount'] < 500)] "
   ]
  },
  {
   "cell_type": "code",
   "execution_count": 2,
   "id": "4435b4e6-bcaa-4c71-b894-0f2e3fb16a9a",
   "metadata": {},
   "outputs": [
    {
     "name": "stdout",
     "output_type": "stream",
     "text": [
      "   pickup_latitude  pickup_longitude  dropoff_latitude  dropoff_longitude  \\\n",
      "0          40.7128          -74.0060           34.0522          -118.2437   \n",
      "1          41.8781          -87.6298           51.5074            -0.1278   \n",
      "2          37.7749         -122.4194           48.8566             2.3522   \n",
      "\n",
      "      distance  \n",
      "0  3935.746255  \n",
      "1  6352.977758  \n",
      "2  8953.391263  \n"
     ]
    }
   ],
   "source": [
    "import pandas as pd\n",
    "from math import radians, cos, sin, asin, sqrt\n",
    "\n",
    "df = pd.DataFrame({\n",
    "    'pickup_latitude': [40.7128, 41.8781, 37.7749],\n",
    "    'pickup_longitude': [-74.0060, -87.6298, -122.4194],\n",
    "    'dropoff_latitude': [34.0522, 51.5074, 48.8566],\n",
    "    'dropoff_longitude': [-118.2437, -0.1278, 2.3522]\n",
    "})\n",
    "\n",
    "def haversine(lat1, lon1, lat2, lon2):\n",
    "    lon1, lat1, lon2, lat2 = map(radians, [lon1, lat1, lon2, lat2])\n",
    "    dlon = lon2 - lon1 \n",
    "    dlat = lat2 - lat1 \n",
    "    a = sin(dlat/2)**2 + cos(lat1) * cos(lat2) * sin(dlon/2)**2\n",
    "    c = 2 * asin(sqrt(a)) \n",
    "    r = 6371  # Radius of Earth in kilometers\n",
    "    return c * r\n",
    "\n",
    "# Apply the haversine function to calculate distances\n",
    "df['distance'] = df.apply(lambda row: haversine(\n",
    "    row['pickup_latitude'], row['pickup_longitude'],\n",
    "    row['dropoff_latitude'], row['dropoff_longitude']\n",
    "), axis=1)\n",
    "\n",
    "# Display the DataFrame with the new distance column\n",
    "print(df)"
   ]
  },
  {
   "cell_type": "code",
   "execution_count": 19,
   "id": "2162fd1d-b7de-4228-b6b7-53cafff3f53c",
   "metadata": {},
   "outputs": [
    {
     "name": "stdout",
     "output_type": "stream",
     "text": [
      "Mean Fare: $11.36\n",
      "Median Fare: $8.50\n",
      "Mode Fare: $6.50\n",
      "Standard Deviation: $9.90\n"
     ]
    }
   ],
   "source": [
    "mean_fare = df_clean['fare_amount'].mean()\n",
    "print(f\"Mean Fare: ${mean_fare:.2f}\")\n",
    "\n",
    "# Median\n",
    "median_fare = df_clean['fare_amount'].median()\n",
    "print(f\"Median Fare: ${median_fare:.2f}\")\n",
    "\n",
    "# Mode\n",
    "mode_fare = df_clean['fare_amount'].mode()[0]\n",
    "print(f\"Mode Fare: ${mode_fare:.2f}\")\n",
    "\n",
    "# Standard Deviation\n",
    "std_fare = df_clean['fare_amount'].std()\n",
    "print(f\"Standard Deviation: ${std_fare:.2f}\")"
   ]
  },
  {
   "cell_type": "code",
   "execution_count": 20,
   "id": "b9665cc9-8f23-4af0-a1bb-a8c56bd8a6d4",
   "metadata": {},
   "outputs": [
    {
     "name": "stdout",
     "output_type": "stream",
     "text": [
      "Fare Range: 6.0 - 12.5\n",
      "Outliers count: 17155\n"
     ]
    }
   ],
   "source": [
    "# Quartiles\n",
    "Q1 = df_clean['fare_amount'].quantile(0.25)\n",
    "Q3 = df_clean['fare_amount'].quantile(0.75)\n",
    "IQR = Q3 - Q1\n",
    "print(\"Fare Range:\", Q1, \"-\", Q3)\n",
    "\n",
    "# Outlier detection\n",
    "outliers = df_clean[(df_clean['fare_amount'] < Q1 - 1.5 * IQR) |\n",
    "                    (df_clean['fare_amount'] > Q3 + 1.5 * IQR)]\n",
    "print(\"Outliers count:\", outliers.shape[0])\n"
   ]
  },
  {
   "cell_type": "code",
   "execution_count": 24,
   "id": "da984d1c-d820-4e2d-91e5-22de16496d2a",
   "metadata": {},
   "outputs": [
    {
     "data": {
      "image/png": "[encoded data removed]",
      "text/plain": [
       "<Figure size 640x480 with 1 Axes>"
      ]
     },
     "metadata": {},
     "output_type": "display_data"
    },
    {
     "name": "stdout",
     "output_type": "stream",
     "text": [
      "Index(['Unnamed: 0', 'key', 'fare_amount', 'pickup_datetime',\n",
      "       'pickup_longitude', 'pickup_latitude', 'dropoff_longitude',\n",
      "       'dropoff_latitude', 'passenger_count'],\n",
      "      dtype='object')\n"
     ]
    },
    {
     "ename": "ValueError",
     "evalue": "Could not interpret value `trip_distance` for `x`. An entry with this name does not appear in `data`.",
     "output_type": "error",
     "traceback": [
      "\u001b[31m---------------------------------------------------------------------------\u001b[39m",
      "\u001b[31mValueError\u001b[39m                                Traceback (most recent call last)",
      "\u001b[36mCell\u001b[39m\u001b[36m \u001b[39m\u001b[32mIn[24]\u001b[39m\u001b[32m, line 9\u001b[39m\n\u001b[32m      7\u001b[39m plt.show()\n\u001b[32m      8\u001b[39m \u001b[38;5;28mprint\u001b[39m(df_clean.columns)\n\u001b[32m----> \u001b[39m\u001b[32m9\u001b[39m \u001b[43msns\u001b[49m\u001b[43m.\u001b[49m\u001b[43mscatterplot\u001b[49m\u001b[43m(\u001b[49m\u001b[43mx\u001b[49m\u001b[43m=\u001b[49m\u001b[33;43m'\u001b[39;49m\u001b[33;43mtrip_distance\u001b[39;49m\u001b[33;43m'\u001b[39;49m\u001b[43m,\u001b[49m\u001b[43m \u001b[49m\u001b[43my\u001b[49m\u001b[43m=\u001b[49m\u001b[33;43m'\u001b[39;49m\u001b[33;43mfare_amount\u001b[39;49m\u001b[33;43m'\u001b[39;49m\u001b[43m,\u001b[49m\u001b[43m \u001b[49m\u001b[43mdata\u001b[49m\u001b[43m=\u001b[49m\u001b[43mdf_clean\u001b[49m\u001b[43m)\u001b[49m\n\u001b[32m     10\u001b[39m plt.title(\u001b[33m\"\u001b[39m\u001b[33mFare vs. Distance\u001b[39m\u001b[33m\"\u001b[39m)\n\u001b[32m     11\u001b[39m plt.show()\n",
      "\u001b[36mFile \u001b[39m\u001b[32m~\\anaconda3\\Lib\\site-packages\\seaborn\\relational.py:615\u001b[39m, in \u001b[36mscatterplot\u001b[39m\u001b[34m(data, x, y, hue, size, style, palette, hue_order, hue_norm, sizes, size_order, size_norm, markers, style_order, legend, ax, **kwargs)\u001b[39m\n\u001b[32m    606\u001b[39m \u001b[38;5;28;01mdef\u001b[39;00m\u001b[38;5;250m \u001b[39m\u001b[34mscatterplot\u001b[39m(\n\u001b[32m    607\u001b[39m     data=\u001b[38;5;28;01mNone\u001b[39;00m, *,\n\u001b[32m    608\u001b[39m     x=\u001b[38;5;28;01mNone\u001b[39;00m, y=\u001b[38;5;28;01mNone\u001b[39;00m, hue=\u001b[38;5;28;01mNone\u001b[39;00m, size=\u001b[38;5;28;01mNone\u001b[39;00m, style=\u001b[38;5;28;01mNone\u001b[39;00m,\n\u001b[32m   (...)\u001b[39m\u001b[32m    612\u001b[39m     **kwargs\n\u001b[32m    613\u001b[39m ):\n\u001b[32m--> \u001b[39m\u001b[32m615\u001b[39m     p = \u001b[43m_ScatterPlotter\u001b[49m\u001b[43m(\u001b[49m\n\u001b[32m    616\u001b[39m \u001b[43m        \u001b[49m\u001b[43mdata\u001b[49m\u001b[43m=\u001b[49m\u001b[43mdata\u001b[49m\u001b[43m,\u001b[49m\n\u001b[32m    617\u001b[39m \u001b[43m        \u001b[49m\u001b[43mvariables\u001b[49m\u001b[43m=\u001b[49m\u001b[38;5;28;43mdict\u001b[39;49m\u001b[43m(\u001b[49m\u001b[43mx\u001b[49m\u001b[43m=\u001b[49m\u001b[43mx\u001b[49m\u001b[43m,\u001b[49m\u001b[43m \u001b[49m\u001b[43my\u001b[49m\u001b[43m=\u001b[49m\u001b[43my\u001b[49m\u001b[43m,\u001b[49m\u001b[43m \u001b[49m\u001b[43mhue\u001b[49m\u001b[43m=\u001b[49m\u001b[43mhue\u001b[49m\u001b[43m,\u001b[49m\u001b[43m \u001b[49m\u001b[43msize\u001b[49m\u001b[43m=\u001b[49m\u001b[43msize\u001b[49m\u001b[43m,\u001b[49m\u001b[43m \u001b[49m\u001b[43mstyle\u001b[49m\u001b[43m=\u001b[49m\u001b[43mstyle\u001b[49m\u001b[43m)\u001b[49m\u001b[43m,\u001b[49m\n\u001b[32m    618\u001b[39m \u001b[43m        \u001b[49m\u001b[43mlegend\u001b[49m\u001b[43m=\u001b[49m\u001b[43mlegend\u001b[49m\n\u001b[32m    619\u001b[39m \u001b[43m    \u001b[49m\u001b[43m)\u001b[49m\n\u001b[32m    621\u001b[39m     p.map_hue(palette=palette, order=hue_order, norm=hue_norm)\n\u001b[32m    622\u001b[39m     p.map_size(sizes=sizes, order=size_order, norm=size_norm)\n",
      "\u001b[36mFile \u001b[39m\u001b[32m~\\anaconda3\\Lib\\site-packages\\seaborn\\relational.py:396\u001b[39m, in \u001b[36m_ScatterPlotter.__init__\u001b[39m\u001b[34m(self, data, variables, legend)\u001b[39m\n\u001b[32m    387\u001b[39m \u001b[38;5;28;01mdef\u001b[39;00m\u001b[38;5;250m \u001b[39m\u001b[34m__init__\u001b[39m(\u001b[38;5;28mself\u001b[39m, *, data=\u001b[38;5;28;01mNone\u001b[39;00m, variables={}, legend=\u001b[38;5;28;01mNone\u001b[39;00m):\n\u001b[32m    388\u001b[39m \n\u001b[32m    389\u001b[39m     \u001b[38;5;66;03m# TODO this is messy, we want the mapping to be agnostic about\u001b[39;00m\n\u001b[32m    390\u001b[39m     \u001b[38;5;66;03m# the kind of plot to draw, but for the time being we need to set\u001b[39;00m\n\u001b[32m    391\u001b[39m     \u001b[38;5;66;03m# this information so the SizeMapping can use it\u001b[39;00m\n\u001b[32m    392\u001b[39m     \u001b[38;5;28mself\u001b[39m._default_size_range = (\n\u001b[32m    393\u001b[39m         np.r_[\u001b[32m.5\u001b[39m, \u001b[32m2\u001b[39m] * np.square(mpl.rcParams[\u001b[33m\"\u001b[39m\u001b[33mlines.markersize\u001b[39m\u001b[33m\"\u001b[39m])\n\u001b[32m    394\u001b[39m     )\n\u001b[32m--> \u001b[39m\u001b[32m396\u001b[39m     \u001b[38;5;28;43msuper\u001b[39;49m\u001b[43m(\u001b[49m\u001b[43m)\u001b[49m\u001b[43m.\u001b[49m\u001b[34;43m__init__\u001b[39;49m\u001b[43m(\u001b[49m\u001b[43mdata\u001b[49m\u001b[43m=\u001b[49m\u001b[43mdata\u001b[49m\u001b[43m,\u001b[49m\u001b[43m \u001b[49m\u001b[43mvariables\u001b[49m\u001b[43m=\u001b[49m\u001b[43mvariables\u001b[49m\u001b[43m)\u001b[49m\n\u001b[32m    398\u001b[39m     \u001b[38;5;28mself\u001b[39m.legend = legend\n",
      "\u001b[36mFile \u001b[39m\u001b[32m~\\anaconda3\\Lib\\site-packages\\seaborn\\_base.py:634\u001b[39m, in \u001b[36mVectorPlotter.__init__\u001b[39m\u001b[34m(self, data, variables)\u001b[39m\n\u001b[32m    629\u001b[39m \u001b[38;5;66;03m# var_ordered is relevant only for categorical axis variables, and may\u001b[39;00m\n\u001b[32m    630\u001b[39m \u001b[38;5;66;03m# be better handled by an internal axis information object that tracks\u001b[39;00m\n\u001b[32m    631\u001b[39m \u001b[38;5;66;03m# such information and is set up by the scale_* methods. The analogous\u001b[39;00m\n\u001b[32m    632\u001b[39m \u001b[38;5;66;03m# information for numeric axes would be information about log scales.\u001b[39;00m\n\u001b[32m    633\u001b[39m \u001b[38;5;28mself\u001b[39m._var_ordered = {\u001b[33m\"\u001b[39m\u001b[33mx\u001b[39m\u001b[33m\"\u001b[39m: \u001b[38;5;28;01mFalse\u001b[39;00m, \u001b[33m\"\u001b[39m\u001b[33my\u001b[39m\u001b[33m\"\u001b[39m: \u001b[38;5;28;01mFalse\u001b[39;00m}  \u001b[38;5;66;03m# alt., used DefaultDict\u001b[39;00m\n\u001b[32m--> \u001b[39m\u001b[32m634\u001b[39m \u001b[38;5;28;43mself\u001b[39;49m\u001b[43m.\u001b[49m\u001b[43massign_variables\u001b[49m\u001b[43m(\u001b[49m\u001b[43mdata\u001b[49m\u001b[43m,\u001b[49m\u001b[43m \u001b[49m\u001b[43mvariables\u001b[49m\u001b[43m)\u001b[49m\n\u001b[32m    636\u001b[39m \u001b[38;5;66;03m# TODO Lots of tests assume that these are called to initialize the\u001b[39;00m\n\u001b[32m    637\u001b[39m \u001b[38;5;66;03m# mappings to default values on class initialization. I'd prefer to\u001b[39;00m\n\u001b[32m    638\u001b[39m \u001b[38;5;66;03m# move away from that and only have a mapping when explicitly called.\u001b[39;00m\n\u001b[32m    639\u001b[39m \u001b[38;5;28;01mfor\u001b[39;00m var \u001b[38;5;129;01min\u001b[39;00m [\u001b[33m\"\u001b[39m\u001b[33mhue\u001b[39m\u001b[33m\"\u001b[39m, \u001b[33m\"\u001b[39m\u001b[33msize\u001b[39m\u001b[33m\"\u001b[39m, \u001b[33m\"\u001b[39m\u001b[33mstyle\u001b[39m\u001b[33m\"\u001b[39m]:\n",
      "\u001b[36mFile \u001b[39m\u001b[32m~\\anaconda3\\Lib\\site-packages\\seaborn\\_base.py:679\u001b[39m, in \u001b[36mVectorPlotter.assign_variables\u001b[39m\u001b[34m(self, data, variables)\u001b[39m\n\u001b[32m    674\u001b[39m \u001b[38;5;28;01melse\u001b[39;00m:\n\u001b[32m    675\u001b[39m     \u001b[38;5;66;03m# When dealing with long-form input, use the newer PlotData\u001b[39;00m\n\u001b[32m    676\u001b[39m     \u001b[38;5;66;03m# object (internal but introduced for the objects interface)\u001b[39;00m\n\u001b[32m    677\u001b[39m     \u001b[38;5;66;03m# to centralize / standardize data consumption logic.\u001b[39;00m\n\u001b[32m    678\u001b[39m     \u001b[38;5;28mself\u001b[39m.input_format = \u001b[33m\"\u001b[39m\u001b[33mlong\u001b[39m\u001b[33m\"\u001b[39m\n\u001b[32m--> \u001b[39m\u001b[32m679\u001b[39m     plot_data = \u001b[43mPlotData\u001b[49m\u001b[43m(\u001b[49m\u001b[43mdata\u001b[49m\u001b[43m,\u001b[49m\u001b[43m \u001b[49m\u001b[43mvariables\u001b[49m\u001b[43m)\u001b[49m\n\u001b[32m    680\u001b[39m     frame = plot_data.frame\n\u001b[32m    681\u001b[39m     names = plot_data.names\n",
      "\u001b[36mFile \u001b[39m\u001b[32m~\\anaconda3\\Lib\\site-packages\\seaborn\\_core\\data.py:58\u001b[39m, in \u001b[36mPlotData.__init__\u001b[39m\u001b[34m(self, data, variables)\u001b[39m\n\u001b[32m     51\u001b[39m \u001b[38;5;28;01mdef\u001b[39;00m\u001b[38;5;250m \u001b[39m\u001b[34m__init__\u001b[39m(\n\u001b[32m     52\u001b[39m     \u001b[38;5;28mself\u001b[39m,\n\u001b[32m     53\u001b[39m     data: DataSource,\n\u001b[32m     54\u001b[39m     variables: \u001b[38;5;28mdict\u001b[39m[\u001b[38;5;28mstr\u001b[39m, VariableSpec],\n\u001b[32m     55\u001b[39m ):\n\u001b[32m     57\u001b[39m     data = handle_data_source(data)\n\u001b[32m---> \u001b[39m\u001b[32m58\u001b[39m     frame, names, ids = \u001b[38;5;28;43mself\u001b[39;49m\u001b[43m.\u001b[49m\u001b[43m_assign_variables\u001b[49m\u001b[43m(\u001b[49m\u001b[43mdata\u001b[49m\u001b[43m,\u001b[49m\u001b[43m \u001b[49m\u001b[43mvariables\u001b[49m\u001b[43m)\u001b[49m\n\u001b[32m     60\u001b[39m     \u001b[38;5;28mself\u001b[39m.frame = frame\n\u001b[32m     61\u001b[39m     \u001b[38;5;28mself\u001b[39m.names = names\n",
      "\u001b[36mFile \u001b[39m\u001b[32m~\\anaconda3\\Lib\\site-packages\\seaborn\\_core\\data.py:232\u001b[39m, in \u001b[36mPlotData._assign_variables\u001b[39m\u001b[34m(self, data, variables)\u001b[39m\n\u001b[32m    230\u001b[39m     \u001b[38;5;28;01melse\u001b[39;00m:\n\u001b[32m    231\u001b[39m         err += \u001b[33m\"\u001b[39m\u001b[33mAn entry with this name does not appear in `data`.\u001b[39m\u001b[33m\"\u001b[39m\n\u001b[32m--> \u001b[39m\u001b[32m232\u001b[39m     \u001b[38;5;28;01mraise\u001b[39;00m \u001b[38;5;167;01mValueError\u001b[39;00m(err)\n\u001b[32m    234\u001b[39m \u001b[38;5;28;01melse\u001b[39;00m:\n\u001b[32m    235\u001b[39m \n\u001b[32m    236\u001b[39m     \u001b[38;5;66;03m# Otherwise, assume the value somehow represents data\u001b[39;00m\n\u001b[32m    237\u001b[39m \n\u001b[32m    238\u001b[39m     \u001b[38;5;66;03m# Ignore empty data structures\u001b[39;00m\n\u001b[32m    239\u001b[39m     \u001b[38;5;28;01mif\u001b[39;00m \u001b[38;5;28misinstance\u001b[39m(val, Sized) \u001b[38;5;129;01mand\u001b[39;00m \u001b[38;5;28mlen\u001b[39m(val) == \u001b[32m0\u001b[39m:\n",
      "\u001b[31mValueError\u001b[39m: Could not interpret value `trip_distance` for `x`. An entry with this name does not appear in `data`."
     ]
    }
   ],
   "source": [
    "import seaborn as sns\n",
    "import matplotlib.pyplot as plt\n",
    "\n",
    "# Fare distribution\n",
    "sns.histplot(df_clean['fare_amount'], bins=50, kde=True)\n",
    "plt.title(\"Fare Amount Distribution\")\n",
    "plt.show()\n",
    "print(df_clean.columns)\n",
    "sns.scatterplot(x='trip_distance', y='fare_amount', data=df_clean)\n",
    "plt.title(\"Fare vs. Distance\")\n",
    "plt.show()\n",
    "\n"
   ]
  },
  {
   "cell_type": "code",
   "execution_count": 28,
   "id": "e558790f-571b-41e4-bed9-02be4e110a7a",
   "metadata": {},
   "outputs": [],
   "source": [
    "df_clean['pickup_datetime'] = pd.to_datetime(df_clean['pickup_datetime'])\n",
    "\n",
    "df_clean['hour'] = df_clean['pickup_datetime'].dt.hour\n",
    "df_clean['day'] = df_clean['pickup_datetime'].dt.day\n",
    "df_clean['month'] = df_clean['pickup_datetime'].dt.month\n",
    "df_clean['weekday'] = df_clean['pickup_datetime'].dt.day_name()\n",
    "\n",
    "# Peak/off-peak (e.g., 7-9 AM and 4-7 PM)\n",
    "def peak_hour(hour):\n",
    "    return 'Peak' if hour in range(7,10) or hour in range(16,19) else 'Off-Peak'\n",
    "\n",
    "df_clean['time_category'] = df_clean['hour'].apply(peak_hour)\n"
   ]
  },
  {
   "cell_type": "code",
   "execution_count": 29,
   "id": "b04393c7-9e3d-48f9-bebd-9bbe58106f06",
   "metadata": {},
   "outputs": [],
   "source": [
    "df_clean['pickup_datetime'] = pd.to_datetime(df_clean['pickup_datetime'])\n",
    "\n",
    "df_clean['hour'] = df_clean['pickup_datetime'].dt.hour\n",
    "df_clean['day'] = df_clean['pickup_datetime'].dt.day\n",
    "df_clean['month'] = df_clean['pickup_datetime'].dt.month\n",
    "df_clean['weekday'] = df_clean['pickup_datetime'].dt.day_name()\n",
    "\n",
    "# Peak/off-peak (e.g., 7-9 AM and 4-7 PM)\n",
    "def peak_hour(hour):\n",
    "    return 'Peak' if hour in range(7,10) or hour in range(16,19) else 'Off-Peak'\n",
    "\n",
    "df_clean['time_category'] = df_clean['hour'].apply(peak_hour)\n"
   ]
  },
  {
   "cell_type": "code",
   "execution_count": 30,
   "id": "9db560a9-e9d0-42f1-9e6b-1a9dff4df15e",
   "metadata": {},
   "outputs": [],
   "source": [
    "df_clean['weekday'] = df_clean['weekday'].astype('category')\n",
    "df_clean['time_category'] = df_clean['time_category'].astype('category')"
   ]
  },
  {
   "cell_type": "code",
   "execution_count": 31,
   "id": "8e3a243c-b55c-4212-9531-b0a637f8ad9e",
   "metadata": {},
   "outputs": [],
   "source": [
    "df_clean.to_csv(\"uber_enhanced.csv\", index=False)"
   ]
  },
  {
   "cell_type": "code",
   "execution_count": null,
   "id": "beae87e3-3bd0-4017-a2bf-0d2eddc1c74b",
   "metadata": {},
   "outputs": [],
   "source": []
  }
 ],
 "metadata": {
  "kernelspec": {
   "display_name": "Python [conda env:base] *",
   "language": "python",
   "name": "conda-base-py"
  },
  "language_info": {
   "codemirror_mode": {
    "name": "ipython",
    "version": 3
   },
   "file_extension": ".py",
   "mimetype": "text/x-python",
   "name": "python",
   "nbconvert_exporter": "python",
   "pygments_lexer": "ipython3",
   "version": "3.13.5"
  }
 },
 "nbformat": 4,
 "nbformat_minor": 5
}
